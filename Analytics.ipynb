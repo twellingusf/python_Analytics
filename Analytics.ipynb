{
  "nbformat": 4,
  "nbformat_minor": 0,
  "metadata": {
    "colab": {
      "provenance": []
    },
    "kernelspec": {
      "name": "python3",
      "display_name": "Python 3"
    },
    "language_info": {
      "name": "python"
    }
  },
  "cells": [
    {
      "cell_type": "code",
      "execution_count": null,
      "metadata": {
        "id": "AW0bAHU-uHOf"
      },
      "outputs": [],
      "source": [
        "from sklearn.tree import DecisionTreeClassifier\n",
        "from sklearn.model_selection import GridSearchCV\n",
        "import numpy as np\n",
        "import pandas as pd\n",
        "\n",
        "df = pd.read_csv('mnist.csv')\n",
        "df\n",
        "\n",
        "print(df.head())\n",
        "print(df.info())\n",
        "df.dropna(inplace=True)\n",
        "\n",
        "model = Regression()\n",
        "\n",
        "model.fit(X_train, y_train)\n",
        "df.info()\n",
        "\n",
        "from sklearn.preprocessing import LabelEncoder\n",
        "\n",
        "df_clean = df.copy()\n",
        "\n",
        "y_pred = model.predict(X_test)\n",
        "\n",
        "accuracy = accuracy_score(y_test, y_pred)\n",
        "\n",
        "precision = precision_score(y_test, y_pred)\n",
        "\n",
        "recall = recall_score(y_test, y_pred)\n",
        "\n",
        "f1 = f1_score(y_test, y_pred)\n",
        "\n",
        "print(\"Accuracy: \", accuracy)\n",
        "print(\"Precision: \", precision)\n",
        "print(\"Recall: \", recall)\n",
        "print(\"F1 Score: \", f1)\n",
        "\n",
        "\n",
        "print(\"Regression model found an accuracy of \", accuracy)\n",
        "print(\"and a precision of \", precision)\n",
        "print(\"a recall of \", recall)\n",
        "print(\"and an F1 score of \", f1)\n"
      ]
    }
  ]
}